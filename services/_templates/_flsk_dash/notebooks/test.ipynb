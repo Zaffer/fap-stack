{
 "cells": [
  {
   "cell_type": "code",
   "execution_count": null,
   "metadata": {},
   "outputs": [],
   "source": [
    "import sys\n",
    "sys.path.append('../backend/src/')\n",
    "\n",
    "from sqlmodel import Session, select, text\n",
    "from app.db.session import engine\n",
    "\n",
    "from app.models.company import Company\n",
    "\n",
    "def get_data():\n",
    "    with Session(engine) as session:\n",
    "        data = {'id': 1}\n",
    "        statement = select(Company).where(Company.id == data['id'])\n",
    "        results = session.exec(statement)\n",
    "\n",
    "        print(results.first())\n",
    "\n",
    "get_data()\n",
    "\n",
    "\n",
    "def get_sql():\n",
    "    with Session(engine) as session:\n",
    "        statement = text('SELECT * FROM company WHERE id = :id')\n",
    "        data = {'id': 1}\n",
    "        results = session.exec(statement, params=data)\n",
    "\n",
    "        print(results.first())\n",
    "\n",
    "get_sql()"
   ]
  },
  {
   "cell_type": "code",
   "execution_count": 1,
   "metadata": {},
   "outputs": [],
   "source": [
    "import pandas as pd"
   ]
  }
 ],
 "metadata": {
  "kernelspec": {
   "display_name": "Python 3.10.8 ('quickdesk-webapp-OXAOKF6g-py3.10')",
   "language": "python",
   "name": "python3"
  },
  "language_info": {
   "codemirror_mode": {
    "name": "ipython",
    "version": 3
   },
   "file_extension": ".py",
   "mimetype": "text/x-python",
   "name": "python",
   "nbconvert_exporter": "python",
   "pygments_lexer": "ipython3",
   "version": "3.10.8"
  },
  "orig_nbformat": 4,
  "vscode": {
   "interpreter": {
    "hash": "b48356abef07ee2d5713b2dd1da96bac5b69ade9aafb297acfc4a4bdca06b859"
   }
  }
 },
 "nbformat": 4,
 "nbformat_minor": 2
}
